{
 "cells": [
  {
   "cell_type": "markdown",
   "id": "bf611b0d-2c33-4224-8142-9d6213f4fcd8",
   "metadata": {},
   "source": [
    "# Hypotesis Testing"
   ]
  },
  {
   "cell_type": "markdown",
   "id": "8a18d809-b203-4332-ac98-085cd3712187",
   "metadata": {},
   "source": [
    "## T_test"
   ]
  },
  {
   "cell_type": "markdown",
   "id": "e9d06ae0-51df-4870-baf3-260943bde46a",
   "metadata": {},
   "source": [
    "Data Provided:\n",
    "\n",
    "•\tThe theoretical weekly operating cost model: W = $1,000 + $5X\n",
    "\n",
    "•\tSample of 25 restaurants with a mean weekly cost of Rs. 3,050\n",
    "\n",
    "•\tNumber of units produced in a week (X) follows a normal distribution with a mean (μ) of 600 units and a standard deviation (σ) of 25 units\n"
   ]
  },
  {
   "cell_type": "code",
   "execution_count": 42,
   "id": "cd5f707e-c93b-4888-9761-fe67d1515c9c",
   "metadata": {},
   "outputs": [],
   "source": [
    "#Given data\n",
    "X_bar = 3050\n",
    "mu = 1000+5*600\n",
    "sigma = 5*25\n",
    "n=25\n",
    "alpa=0.05  \n",
    "CI=0.95"
   ]
  },
  {
   "cell_type": "code",
   "execution_count": 6,
   "id": "7e169c3f-7cad-47c1-81eb-1738dd9b8728",
   "metadata": {},
   "outputs": [],
   "source": [
    "#Null Hypothesis (𝐻0): The mean weekly operating cost is equal to the theoretical mean weekly cost.\n",
    "#Alternative Hypothesis (𝐻1): The mean weekly operating cost is greater than the theoretical mean weekly cost "
   ]
  },
  {
   "cell_type": "code",
   "execution_count": 44,
   "id": "24be534d-25a0-41a3-bf2f-eded20e6058a",
   "metadata": {},
   "outputs": [],
   "source": [
    "import scipy.stats as stats\n",
    "import numpy as np\n",
    "import pandas as pd"
   ]
  },
  {
   "cell_type": "markdown",
   "id": "45ebc50a-4669-43d9-8ede-c14577053371",
   "metadata": {},
   "source": [
    "#### To find T_critical"
   ]
  },
  {
   "cell_type": "code",
   "execution_count": null,
   "id": "5480fe97-7d2b-465f-9d03-cc533db6fe43",
   "metadata": {},
   "outputs": [],
   "source": [
    "T_critical = stats.t.ppf(0.975,24)\n",
    "T_critical"
   ]
  },
  {
   "cell_type": "markdown",
   "id": "5ce24dbe-0706-4e2a-8001-414f1c773d13",
   "metadata": {},
   "source": [
    "#### To find t_stats"
   ]
  },
  {
   "cell_type": "code",
   "execution_count": null,
   "id": "1917d635-fdfe-4e68-8ef1-32fb783b865e",
   "metadata": {},
   "outputs": [],
   "source": [
    "t_stats =(X_bar-mu)/(sigma/np.sqrt(n))\n",
    "t_stats"
   ]
  },
  {
   "cell_type": "code",
   "execution_count": 10,
   "id": "7312ea27-8ff6-41e8-8680-18be3abd78a3",
   "metadata": {},
   "outputs": [],
   "source": [
    "#t_stats is lies on rejection range then it can be reject the H0\n",
    "#It  obeys the mean weekly operating cost is greater than the theoretical mean weekly cost "
   ]
  },
  {
   "cell_type": "markdown",
   "id": "b500b688-b00f-49b3-874d-cb8a92737fa4",
   "metadata": {},
   "source": [
    "## CHI-SQUARE TEST"
   ]
  },
  {
   "cell_type": "markdown",
   "id": "1052e2cd-b9ba-4c4b-8f52-cb4437b9689d",
   "metadata": {},
   "source": [
    "given data\n",
    "\n",
    "Satisfaction\tSmart Thermostat\tSmart Light\t     Total\n",
    "\n",
    "Very Satisfied\t      50\t            70\t          120\n",
    "\n",
    "Satisfied\t          80\t            100\t          180\n",
    "\n",
    "Neutral\t              60\t            90\t          150\n",
    "\n",
    "Unsatisfied\t          30\t            50\t           80\n",
    "\n",
    "Very Unsatisfied\t  20\t            50\t           70\n",
    "\n",
    "Total\t             240\t            360\t          600\n"
   ]
  },
  {
   "cell_type": "markdown",
   "id": "b842c342-4176-4feb-9b65-de7947ca1795",
   "metadata": {},
   "source": [
    "#### To find the Hypotheses:"
   ]
  },
  {
   "cell_type": "code",
   "execution_count": null,
   "id": "89376dcc-7520-48e0-8171-ca371f5d145c",
   "metadata": {},
   "outputs": [],
   "source": [
    "#Null Hypothesis (H₀): No association between device type and customer satisfaction.\n",
    "#Alternative Hypothesis (H₁): There is an association between device type and customer satisfaction."
   ]
  },
  {
   "cell_type": "markdown",
   "id": "e378830c-a2df-4f0e-8231-35b131ea2442",
   "metadata": {},
   "source": [
    "#### To find the Chi-Square Statistic:"
   ]
  },
  {
   "cell_type": "code",
   "execution_count": 66,
   "id": "397ab032-572d-4a3c-b206-c43388a40073",
   "metadata": {},
   "outputs": [
    {
     "data": {
      "text/html": [
       "<div>\n",
       "<style scoped>\n",
       "    .dataframe tbody tr th:only-of-type {\n",
       "        vertical-align: middle;\n",
       "    }\n",
       "\n",
       "    .dataframe tbody tr th {\n",
       "        vertical-align: top;\n",
       "    }\n",
       "\n",
       "    .dataframe thead th {\n",
       "        text-align: right;\n",
       "    }\n",
       "</style>\n",
       "<table border=\"1\" class=\"dataframe\">\n",
       "  <thead>\n",
       "    <tr style=\"text-align: right;\">\n",
       "      <th></th>\n",
       "      <th>Smart Thermostat</th>\n",
       "      <th>Smart Light</th>\n",
       "    </tr>\n",
       "  </thead>\n",
       "  <tbody>\n",
       "    <tr>\n",
       "      <th>Neutral</th>\n",
       "      <td>90</td>\n",
       "      <td>60</td>\n",
       "    </tr>\n",
       "    <tr>\n",
       "      <th>Satisfied</th>\n",
       "      <td>100</td>\n",
       "      <td>80</td>\n",
       "    </tr>\n",
       "    <tr>\n",
       "      <th>Unsatisfied</th>\n",
       "      <td>50</td>\n",
       "      <td>30</td>\n",
       "    </tr>\n",
       "    <tr>\n",
       "      <th>Very Satisfied</th>\n",
       "      <td>70</td>\n",
       "      <td>50</td>\n",
       "    </tr>\n",
       "    <tr>\n",
       "      <th>Very Unsatisfied</th>\n",
       "      <td>50</td>\n",
       "      <td>20</td>\n",
       "    </tr>\n",
       "  </tbody>\n",
       "</table>\n",
       "</div>"
      ],
      "text/plain": [
       "                  Smart Thermostat  Smart Light\n",
       "Neutral                         90           60\n",
       "Satisfied                      100           80\n",
       "Unsatisfied                     50           30\n",
       "Very Satisfied                  70           50\n",
       "Very Unsatisfied                50           20"
      ]
     },
     "execution_count": 66,
     "metadata": {},
     "output_type": "execute_result"
    }
   ],
   "source": [
    "import numpy as np\n",
    "import pandas as pd\n",
    "index1 = ['Neutral', 'Satisfied', 'Unsatisfied', 'Very Satisfied', 'Very Unsatisfied']\n",
    "data = np.array([[90, 100, 50, 70, 50], [60, 80, 30, 50, 20]])\n",
    "columns = ['Smart Thermostat', 'Smart Light'] \n",
    "DF = pd.DataFrame(data.T, index=index1, columns=columns)\n",
    "DF"
   ]
  },
  {
   "cell_type": "code",
   "execution_count": 68,
   "id": "daa3d989-2b7b-40ec-9045-156e010e33f3",
   "metadata": {},
   "outputs": [
    {
     "data": {
      "text/plain": [
       "Chi2ContingencyResult(statistic=5.638227513227513, pvalue=0.22784371130697179, dof=4, expected_freq=array([[ 90.,  60.],\n",
       "       [108.,  72.],\n",
       "       [ 48.,  32.],\n",
       "       [ 72.,  48.],\n",
       "       [ 42.,  28.]]))"
      ]
     },
     "execution_count": 68,
     "metadata": {},
     "output_type": "execute_result"
    }
   ],
   "source": [
    "expected = stats.chi2_contingency(DF)\n",
    "expected"
   ]
  },
  {
   "cell_type": "code",
   "execution_count": 77,
   "id": "8c0ea469-2606-4c2c-acd6-50e3ea1e4164",
   "metadata": {},
   "outputs": [],
   "source": [
    "Chi_Square_Statistic = 5.638227513227513\n",
    "pvalue = 0.22784371130697179\n",
    "dof = 4"
   ]
  },
  {
   "cell_type": "markdown",
   "id": "18fc6e01-fe38-41fb-b9fa-c548cce3feef",
   "metadata": {},
   "source": [
    "#### To find the Critical Value:"
   ]
  },
  {
   "cell_type": "code",
   "execution_count": 80,
   "id": "738666a0-af6d-4991-a93b-e5a7416a2f70",
   "metadata": {},
   "outputs": [
    {
     "data": {
      "text/plain": [
       "9.487729036781154"
      ]
     },
     "execution_count": 80,
     "metadata": {},
     "output_type": "execute_result"
    }
   ],
   "source": [
    "X2_critical = stats.chi2.ppf(0.95,4)\n",
    "X2_critical"
   ]
  },
  {
   "cell_type": "markdown",
   "id": "124dc089-f945-4574-8ee9-c64d06b65f5a",
   "metadata": {},
   "source": [
    "#### Conclusion"
   ]
  },
  {
   "cell_type": "code",
   "execution_count": null,
   "id": "e4ac5388-cb81-4d73-85ae-e7d8700d91b0",
   "metadata": {},
   "outputs": [],
   "source": [
    "#Chi_Square_Statistic < X2_critical\n",
    "#Then the null hypothesis is accepted then No association between device type and customer satisfaction."
   ]
  },
  {
   "cell_type": "code",
   "execution_count": null,
   "id": "beacda88-00af-4c8e-9ef6-414e15bc8929",
   "metadata": {},
   "outputs": [],
   "source": []
  }
 ],
 "metadata": {
  "kernelspec": {
   "display_name": "Python 3 (ipykernel)",
   "language": "python",
   "name": "python3"
  },
  "language_info": {
   "codemirror_mode": {
    "name": "ipython",
    "version": 3
   },
   "file_extension": ".py",
   "mimetype": "text/x-python",
   "name": "python",
   "nbconvert_exporter": "python",
   "pygments_lexer": "ipython3",
   "version": "3.12.4"
  }
 },
 "nbformat": 4,
 "nbformat_minor": 5
}
